{
 "cells": [
  {
   "cell_type": "markdown",
   "metadata": {},
   "source": [
    "# SVM for Digits"
   ]
  },
  {
   "cell_type": "code",
   "execution_count": 1,
   "metadata": {
    "collapsed": false
   },
   "outputs": [],
   "source": [
    "%matplotlib inline\n",
    "import numpy as np\n",
    "import pandas as pd\n",
    "import matplotlib.pyplot as plt\n",
    "import sklearn.svm as skl_svm\n",
    "from sklearn.cross_validation import train_test_split\n",
    "import seaborn as sns\n",
    "import os\n",
    "os.chdir('C:\\Users\\Lundi\\Documents\\Programming\\Python\\Kaggle\\Digits')\n",
    "\n",
    "import time\n",
    "from sklearn.grid_search import GridSearchCV"
   ]
  },
  {
   "cell_type": "code",
   "execution_count": 2,
   "metadata": {
    "collapsed": false
   },
   "outputs": [],
   "source": [
    "digit_data = pd.read_csv('Data/train.csv')"
   ]
  },
  {
   "cell_type": "code",
   "execution_count": 3,
   "metadata": {
    "collapsed": false
   },
   "outputs": [],
   "source": [
    "X = digit_data.ix[:,1:digit_data.shape[1]]\n",
    "y = digit_data['label']"
   ]
  },
  {
   "cell_type": "code",
   "execution_count": 4,
   "metadata": {
    "collapsed": true
   },
   "outputs": [],
   "source": [
    "X_subset = X.ix[0:5000,:]\n",
    "y_subset = y.ix[0:5000]\n",
    "\n",
    "X_train, X_test, y_train, y_test = train_test_split(X_subset, y_subset, test_size=0.1)"
   ]
  },
  {
   "cell_type": "markdown",
   "metadata": {
    "collapsed": true
   },
   "source": [
    "## Investigating polynomial SVC\n",
    "\n",
    "The polynomial support vector classifiers did fairly well on average. Let's look deeper into these:"
   ]
  },
  {
   "cell_type": "code",
   "execution_count": null,
   "metadata": {
    "collapsed": true
   },
   "outputs": [],
   "source": [
    "svc_clf = skl_svm.SVC()\n",
    "\n",
    "svc_poly_gs_params = [\n",
    "    {'kernel': ['poly'], 'degree': np.arange(1,6), 'C': np.logspace(-2, 10, num=13)}, \n",
    "]\n",
    "start_time = time.time()\n",
    "gs_svc_poly_clf = GridSearchCV(svc_clf, param_grid = svc_poly_gs_params, cv=8)\n",
    "gs_svc_poly_clf.fit(X_subset, y_subset);\n",
    "end_time = time.time()\n",
    "\n",
    "print 'Elapsed Time: ', end_time - start_time, ' seconds'"
   ]
  },
  {
   "cell_type": "code",
   "execution_count": 10,
   "metadata": {
    "collapsed": false,
    "scrolled": true
   },
   "outputs": [
    {
     "name": "stdout",
     "output_type": "stream",
     "text": [
      "0.912+/-0.012 {'kernel': 'poly', 'C': 0.01, 'degree': 1}\n",
      "0.953+/-0.009 {'kernel': 'poly', 'C': 0.01, 'degree': 2}\n",
      "0.943+/-0.009 {'kernel': 'poly', 'C': 0.01, 'degree': 3}\n",
      "0.927+/-0.010 {'kernel': 'poly', 'C': 0.01, 'degree': 4}\n",
      "0.901+/-0.011 {'kernel': 'poly', 'C': 0.01, 'degree': 5}\n",
      "0.912+/-0.011 {'kernel': 'poly', 'C': 0.10000000000000001, 'degree': 1}\n",
      "0.953+/-0.009 {'kernel': 'poly', 'C': 0.10000000000000001, 'degree': 2}\n",
      "0.943+/-0.009 {'kernel': 'poly', 'C': 0.10000000000000001, 'degree': 3}\n",
      "0.927+/-0.010 {'kernel': 'poly', 'C': 0.10000000000000001, 'degree': 4}\n",
      "0.901+/-0.011 {'kernel': 'poly', 'C': 0.10000000000000001, 'degree': 5}\n",
      "0.912+/-0.011 {'kernel': 'poly', 'C': 1.0, 'degree': 1}\n",
      "0.953+/-0.009 {'kernel': 'poly', 'C': 1.0, 'degree': 2}\n",
      "0.943+/-0.009 {'kernel': 'poly', 'C': 1.0, 'degree': 3}\n",
      "0.927+/-0.010 {'kernel': 'poly', 'C': 1.0, 'degree': 4}\n",
      "0.901+/-0.011 {'kernel': 'poly', 'C': 1.0, 'degree': 5}\n",
      "0.912+/-0.011 {'kernel': 'poly', 'C': 10.0, 'degree': 1}\n",
      "0.953+/-0.009 {'kernel': 'poly', 'C': 10.0, 'degree': 2}\n",
      "0.943+/-0.009 {'kernel': 'poly', 'C': 10.0, 'degree': 3}\n",
      "0.927+/-0.010 {'kernel': 'poly', 'C': 10.0, 'degree': 4}\n",
      "0.901+/-0.011 {'kernel': 'poly', 'C': 10.0, 'degree': 5}\n",
      "0.912+/-0.011 {'kernel': 'poly', 'C': 100.0, 'degree': 1}\n",
      "0.953+/-0.009 {'kernel': 'poly', 'C': 100.0, 'degree': 2}\n",
      "0.943+/-0.009 {'kernel': 'poly', 'C': 100.0, 'degree': 3}\n",
      "0.927+/-0.010 {'kernel': 'poly', 'C': 100.0, 'degree': 4}\n",
      "0.901+/-0.011 {'kernel': 'poly', 'C': 100.0, 'degree': 5}\n",
      "0.912+/-0.011 {'kernel': 'poly', 'C': 1000.0, 'degree': 1}\n",
      "0.953+/-0.009 {'kernel': 'poly', 'C': 1000.0, 'degree': 2}\n",
      "0.943+/-0.009 {'kernel': 'poly', 'C': 1000.0, 'degree': 3}\n",
      "0.927+/-0.010 {'kernel': 'poly', 'C': 1000.0, 'degree': 4}\n",
      "0.901+/-0.011 {'kernel': 'poly', 'C': 1000.0, 'degree': 5}\n",
      "0.912+/-0.011 {'kernel': 'poly', 'C': 10000.0, 'degree': 1}\n",
      "0.953+/-0.009 {'kernel': 'poly', 'C': 10000.0, 'degree': 2}\n",
      "0.943+/-0.009 {'kernel': 'poly', 'C': 10000.0, 'degree': 3}\n",
      "0.927+/-0.010 {'kernel': 'poly', 'C': 10000.0, 'degree': 4}\n",
      "0.901+/-0.011 {'kernel': 'poly', 'C': 10000.0, 'degree': 5}\n",
      "0.912+/-0.011 {'kernel': 'poly', 'C': 100000.0, 'degree': 1}\n",
      "0.953+/-0.009 {'kernel': 'poly', 'C': 100000.0, 'degree': 2}\n",
      "0.943+/-0.009 {'kernel': 'poly', 'C': 100000.0, 'degree': 3}\n",
      "0.927+/-0.010 {'kernel': 'poly', 'C': 100000.0, 'degree': 4}\n",
      "0.901+/-0.011 {'kernel': 'poly', 'C': 100000.0, 'degree': 5}\n",
      "0.912+/-0.011 {'kernel': 'poly', 'C': 1000000.0, 'degree': 1}\n",
      "0.953+/-0.009 {'kernel': 'poly', 'C': 1000000.0, 'degree': 2}\n",
      "0.943+/-0.009 {'kernel': 'poly', 'C': 1000000.0, 'degree': 3}\n",
      "0.927+/-0.010 {'kernel': 'poly', 'C': 1000000.0, 'degree': 4}\n",
      "0.901+/-0.011 {'kernel': 'poly', 'C': 1000000.0, 'degree': 5}\n",
      "0.912+/-0.011 {'kernel': 'poly', 'C': 10000000.0, 'degree': 1}\n",
      "0.953+/-0.009 {'kernel': 'poly', 'C': 10000000.0, 'degree': 2}\n",
      "0.943+/-0.009 {'kernel': 'poly', 'C': 10000000.0, 'degree': 3}\n",
      "0.927+/-0.010 {'kernel': 'poly', 'C': 10000000.0, 'degree': 4}\n",
      "0.901+/-0.011 {'kernel': 'poly', 'C': 10000000.0, 'degree': 5}\n",
      "0.912+/-0.011 {'kernel': 'poly', 'C': 100000000.0, 'degree': 1}\n",
      "0.953+/-0.009 {'kernel': 'poly', 'C': 100000000.0, 'degree': 2}\n",
      "0.943+/-0.009 {'kernel': 'poly', 'C': 100000000.0, 'degree': 3}\n",
      "0.927+/-0.010 {'kernel': 'poly', 'C': 100000000.0, 'degree': 4}\n",
      "0.901+/-0.011 {'kernel': 'poly', 'C': 100000000.0, 'degree': 5}\n",
      "0.912+/-0.011 {'kernel': 'poly', 'C': 1000000000.0, 'degree': 1}\n",
      "0.953+/-0.009 {'kernel': 'poly', 'C': 1000000000.0, 'degree': 2}\n",
      "0.943+/-0.009 {'kernel': 'poly', 'C': 1000000000.0, 'degree': 3}\n",
      "0.927+/-0.010 {'kernel': 'poly', 'C': 1000000000.0, 'degree': 4}\n",
      "0.901+/-0.011 {'kernel': 'poly', 'C': 1000000000.0, 'degree': 5}\n",
      "0.912+/-0.011 {'kernel': 'poly', 'C': 10000000000.0, 'degree': 1}\n",
      "0.953+/-0.009 {'kernel': 'poly', 'C': 10000000000.0, 'degree': 2}\n",
      "0.943+/-0.009 {'kernel': 'poly', 'C': 10000000000.0, 'degree': 3}\n",
      "0.927+/-0.010 {'kernel': 'poly', 'C': 10000000000.0, 'degree': 4}\n",
      "0.901+/-0.011 {'kernel': 'poly', 'C': 10000000000.0, 'degree': 5}\n"
     ]
    }
   ],
   "source": [
    "poly_results_list = []\n",
    "for params, mean_score, scores in gs_svc_poly_clf.grid_scores_:\n",
    "    print('%0.3f+/-%0.3f %r' % (mean_score, np.std(scores), params))\n",
    "    poly_results_list.append([mean_score, params['C'], params['degree']])"
   ]
  },
  {
   "cell_type": "code",
   "execution_count": 14,
   "metadata": {
    "collapsed": false
   },
   "outputs": [
    {
     "data": {
      "text/html": [
       "<div>\n",
       "<table border=\"1\" class=\"dataframe\">\n",
       "  <thead>\n",
       "    <tr style=\"text-align: right;\">\n",
       "      <th></th>\n",
       "      <th>mean_score</th>\n",
       "      <th>C</th>\n",
       "      <th>degree</th>\n",
       "    </tr>\n",
       "  </thead>\n",
       "  <tbody>\n",
       "    <tr>\n",
       "      <th>0</th>\n",
       "      <td>0.912218</td>\n",
       "      <td>0.01</td>\n",
       "      <td>1</td>\n",
       "    </tr>\n",
       "    <tr>\n",
       "      <th>1</th>\n",
       "      <td>0.953009</td>\n",
       "      <td>0.01</td>\n",
       "      <td>2</td>\n",
       "    </tr>\n",
       "    <tr>\n",
       "      <th>2</th>\n",
       "      <td>0.943211</td>\n",
       "      <td>0.01</td>\n",
       "      <td>3</td>\n",
       "    </tr>\n",
       "    <tr>\n",
       "      <th>3</th>\n",
       "      <td>0.926615</td>\n",
       "      <td>0.01</td>\n",
       "      <td>4</td>\n",
       "    </tr>\n",
       "    <tr>\n",
       "      <th>4</th>\n",
       "      <td>0.901420</td>\n",
       "      <td>0.01</td>\n",
       "      <td>5</td>\n",
       "    </tr>\n",
       "  </tbody>\n",
       "</table>\n",
       "</div>"
      ],
      "text/plain": [
       "   mean_score     C  degree\n",
       "0    0.912218  0.01       1\n",
       "1    0.953009  0.01       2\n",
       "2    0.943211  0.01       3\n",
       "3    0.926615  0.01       4\n",
       "4    0.901420  0.01       5"
      ]
     },
     "execution_count": 14,
     "metadata": {},
     "output_type": "execute_result"
    }
   ],
   "source": [
    "poly_results_df = pd.DataFrame(poly_results_list, columns=['mean_score','C','degree'])\n",
    "poly_results_df.head()"
   ]
  },
  {
   "cell_type": "code",
   "execution_count": 17,
   "metadata": {
    "collapsed": false
   },
   "outputs": [
    {
     "data": {
      "text/plain": [
       "<matplotlib.axes._subplots.AxesSubplot at 0x2c8df4a8>"
      ]
     },
     "execution_count": 17,
     "metadata": {},
     "output_type": "execute_result"
    },
    {
     "data": {
      "image/png": "[encoded data removed]",
      "text/plain": [
       "<matplotlib.figure.Figure at 0x2885f240>"
      ]
     },
     "metadata": {},
     "output_type": "display_data"
    }
   ],
   "source": [
    "sns.boxplot(x = 'degree', y = 'mean_score', data= poly_results_df)"
   ]
  },
  {
   "cell_type": "markdown",
   "metadata": {},
   "source": [
    "### Conclusion: This shows that degree = 2 is the best. "
   ]
  },
  {
   "cell_type": "code",
   "execution_count": 11,
   "metadata": {
    "collapsed": false
   },
   "outputs": [
    {
     "name": "stdout",
     "output_type": "stream",
     "text": [
      "Elapsed Time:  495.902000189  seconds\n"
     ]
    }
   ],
   "source": [
    "svc_clf = skl_svm.SVC()\n",
    "\n",
    "svc_poly_gs_params = [\n",
    "    {'kernel': ['poly'], 'degree': [2], 'C': np.logspace(-10, 10, num=10)} \n",
    "]\n",
    "start_time = time.time()\n",
    "gs_svc_poly_clf = GridSearchCV(svc_clf, param_grid = svc_poly_gs_params, cv=8)\n",
    "gs_svc_poly_clf.fit(X_subset, y_subset);\n",
    "end_time = time.time()\n",
    "\n",
    "print 'Elapsed Time: ', end_time - start_time, ' seconds'"
   ]
  },
  {
   "cell_type": "markdown",
   "metadata": {},
   "source": [
    "### Testing out model on full_data:"
   ]
  },
  {
   "cell_type": "code",
   "execution_count": 21,
   "metadata": {
    "collapsed": false
   },
   "outputs": [
    {
     "data": {
      "text/plain": [
       "array([ 0.97741322,  0.97668887,  0.97524988,  0.97500595,  0.97714286,\n",
       "        0.97237437,  0.97499405,  0.97879438,  0.97878932,  0.97783603])"
      ]
     },
     "execution_count": 21,
     "metadata": {},
     "output_type": "execute_result"
    }
   ],
   "source": [
    "from sklearn.cross_validation import cross_val_score\n",
    "\n",
    "cross_val_score(gs_svc_poly_clf.best_estimator_, X, y, cv=10)"
   ]
  },
  {
   "cell_type": "code",
   "execution_count": 7,
   "metadata": {
    "collapsed": false
   },
   "outputs": [
    {
     "data": {
      "text/plain": [
       "0.97642889300000013"
      ]
     },
     "execution_count": 7,
     "metadata": {},
     "output_type": "execute_result"
    }
   ],
   "source": [
    "x = np.array([ 0.97741322,  0.97668887,  0.97524988,  0.97500595,  0.97714286,\n",
    "        0.97237437,  0.97499405,  0.97879438,  0.97878932,  0.97783603])\n",
    "x.mean()"
   ]
  },
  {
   "cell_type": "markdown",
   "metadata": {},
   "source": [
    "So the cross-validated accuracy of classification is 0.9764. Let's try this out on the test data:"
   ]
  },
  {
   "cell_type": "code",
   "execution_count": null,
   "metadata": {
    "collapsed": true
   },
   "outputs": [],
   "source": [
    "best_svc_poly_clf = gs_svc_poly_clf.best_estimator_\n",
    "best_svc_poly_clf.fit(X, y)\n",
    "\n",
    "X_test = pd.read_csv('Data/test.csv')\n",
    "X_test"
   ]
  },
  {
   "cell_type": "code",
   "execution_count": null,
   "metadata": {
    "collapsed": true
   },
   "outputs": [],
   "source": [
    "y_pred = best_svc_poly_clf.predict(X_test)"
   ]
  },
  {
   "cell_type": "code",
   "execution_count": 27,
   "metadata": {
    "collapsed": false
   },
   "outputs": [],
   "source": [
    "test_output = pd.DataFrame([np.arange(1,28001), y_pred]).T\n",
    "test_output.columns = ['ImageId', 'Label']\n",
    "test_output.to_csv('Data/test_output.csv', index=False)"
   ]
  },
  {
   "cell_type": "markdown",
   "metadata": {},
   "source": [
    "Test Accuracy: 0.97871 (Rank 274)"
   ]
  },
  {
   "cell_type": "markdown",
   "metadata": {},
   "source": [
    "### Trying slightly different values for C"
   ]
  },
  {
   "cell_type": "code",
   "execution_count": 28,
   "metadata": {
    "collapsed": true
   },
   "outputs": [],
   "source": [
    "svc_poly_clf = skl_svm.SVC(\n",
    "    C=2.8e-5, \n",
    "    degree=2, \n",
    "    gamma='auto', \n",
    "    kernel='poly', \n",
    "    tol=0.001\n",
    ")\n",
    "\n",
    "svc_poly_clf.fit(X, y)\n",
    "y_pred = svc_poly_clf.predict(X_test)\n",
    "\n",
    "test_output = pd.DataFrame([np.arange(1,28001), y_pred]).T\n",
    "test_output.columns = ['ImageId', 'Label']\n",
    "test_output.to_csv('Data/test_output.csv', index=False)"
   ]
  },
  {
   "cell_type": "markdown",
   "metadata": {},
   "source": [
    "No improvement...Test Accuracy: 0.97871 (Rank )"
   ]
  },
  {
   "cell_type": "markdown",
   "metadata": {},
   "source": [
    "## Optimizing with full dataset"
   ]
  },
  {
   "cell_type": "code",
   "execution_count": 29,
   "metadata": {
    "collapsed": false
   },
   "outputs": [
    {
     "name": "stdout",
     "output_type": "stream",
     "text": [
      "Elapsed Time:  5690.81699991  seconds\n"
     ]
    }
   ],
   "source": [
    "svc_clf = skl_svm.SVC()\n",
    "\n",
    "svc_poly_gs_params = [\n",
    "    {'kernel': ['poly'], 'degree': [2], 'C': np.logspace(-8, -5, num=5)} \n",
    "]\n",
    "start_time = time.time()\n",
    "gs_svc_poly_clf = GridSearchCV(svc_clf, param_grid = svc_poly_gs_params, cv=8)\n",
    "gs_svc_poly_clf.fit(X, y);\n",
    "end_time = time.time()\n",
    "\n",
    "print 'Elapsed Time: ', end_time - start_time, ' seconds'"
   ]
  },
  {
   "cell_type": "code",
   "execution_count": 30,
   "metadata": {
    "collapsed": true
   },
   "outputs": [],
   "source": [
    "y_pred = gs_svc_poly_clf.best_estimator_.predict(X_test)\n",
    "\n",
    "test_output = pd.DataFrame([np.arange(1,28001), y_pred]).T\n",
    "test_output.columns = ['ImageId', 'Label']\n",
    "test_output.to_csv('Data/test_output.csv', index=False)"
   ]
  },
  {
   "cell_type": "code",
   "execution_count": 32,
   "metadata": {
    "collapsed": false
   },
   "outputs": [
    {
     "data": {
      "text/plain": [
       "{'C': 3.1622776601683792e-07, 'degree': 2, 'kernel': 'poly'}"
      ]
     },
     "execution_count": 32,
     "metadata": {},
     "output_type": "execute_result"
    }
   ],
   "source": [
    "gs_svc_poly_clf.best_params_"
   ]
  },
  {
   "cell_type": "markdown",
   "metadata": {},
   "source": [
    "No improvement...Test Accuracy: 0.97857"
   ]
  },
  {
   "cell_type": "code",
   "execution_count": null,
   "metadata": {
    "collapsed": true
   },
   "outputs": [],
   "source": []
  }
 ],
 "metadata": {
  "kernelspec": {
   "display_name": "Python 2",
   "language": "python",
   "name": "python2"
  },
  "language_info": {
   "codemirror_mode": {
    "name": "ipython",
    "version": 2
   },
   "file_extension": ".py",
   "mimetype": "text/x-python",
   "name": "python",
   "nbconvert_exporter": "python",
   "pygments_lexer": "ipython2",
   "version": "2.7.10"
  }
 },
 "nbformat": 4,
 "nbformat_minor": 0
}
