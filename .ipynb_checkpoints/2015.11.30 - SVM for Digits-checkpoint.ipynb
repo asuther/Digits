{
 "cells": [
  {
   "cell_type": "markdown",
   "metadata": {},
   "source": [
    "# SVM for Digits"
   ]
  },
  {
   "cell_type": "code",
   "execution_count": 1,
   "metadata": {
    "collapsed": false
   },
   "outputs": [],
   "source": [
    "%matplotlib inline\n",
    "import numpy as np\n",
    "import pandas as pd\n",
    "import matplotlib.pyplot as plt\n",
    "import sklearn.svm as skl_svm\n",
    "from sklearn.cross_validation import train_test_split\n",
    "import seaborn as sns\n",
    "import os\n",
    "os.chdir('C:\\Users\\Lundi\\Documents\\Programming\\Python\\Kaggle\\Digits')"
   ]
  },
  {
   "cell_type": "code",
   "execution_count": 2,
   "metadata": {
    "collapsed": false
   },
   "outputs": [],
   "source": [
    "digit_data = pd.read_csv('Data/train.csv')"
   ]
  },
  {
   "cell_type": "code",
   "execution_count": 3,
   "metadata": {
    "collapsed": false
   },
   "outputs": [],
   "source": [
    "X = digit_data.ix[:,1:digit_data.shape[1]]\n",
    "y = digit_data['label']"
   ]
  },
  {
   "cell_type": "code",
   "execution_count": 4,
   "metadata": {
    "collapsed": true
   },
   "outputs": [],
   "source": [
    "X_subset = X.ix[0:5000,:]\n",
    "y_subset = y.ix[0:5000]\n",
    "\n",
    "X_train, X_test, y_train, y_test = train_test_split(X_subset, y_subset, test_size=0.1)"
   ]
  },
  {
   "cell_type": "code",
   "execution_count": 5,
   "metadata": {
    "collapsed": false
   },
   "outputs": [
    {
     "data": {
      "text/plain": [
       "SVC(C=1.0, cache_size=200, class_weight=None, coef0=0.0,\n",
       "  decision_function_shape=None, degree=3, gamma='auto', kernel='linear',\n",
       "  max_iter=-1, probability=False, random_state=None, shrinking=True,\n",
       "  tol=0.001, verbose=False)"
      ]
     },
     "execution_count": 5,
     "metadata": {},
     "output_type": "execute_result"
    }
   ],
   "source": [
    "lin_svc_clf = skl_svm.SVC(kernel='linear')\n",
    "lin_svc_clf.fit(X_train, y_train)"
   ]
  },
  {
   "cell_type": "code",
   "execution_count": 6,
   "metadata": {
    "collapsed": false
   },
   "outputs": [
    {
     "name": "stdout",
     "output_type": "stream",
     "text": [
      "Accuracy:  0.90618762475\n"
     ]
    }
   ],
   "source": [
    "y_pred = lin_svc_clf.predict(X_test)\n",
    "test_accuracy = pd.Series(y_pred == y_test).map(lambda x: 1 if x else 0).mean()\n",
    "print 'Accuracy: ', test_accuracy"
   ]
  },
  {
   "cell_type": "markdown",
   "metadata": {},
   "source": [
    "The accuracy of a simple linear SVM is ~0.9, which is fairly good. Let's look at some instances where the SVM got it wrong:"
   ]
  },
  {
   "cell_type": "markdown",
   "metadata": {},
   "source": [
    "## Incorrectly classified instances:"
   ]
  },
  {
   "cell_type": "code",
   "execution_count": 7,
   "metadata": {
    "collapsed": false
   },
   "outputs": [
    {
     "name": "stderr",
     "output_type": "stream",
     "text": [
      "C:\\Users\\Lundi\\Miniconda2\\lib\\site-packages\\matplotlib\\collections.py:590: FutureWarning: elementwise comparison failed; returning scalar instead, but in the future will perform elementwise comparison\n",
      "  if self._edgecolors == str('face'):\n"
     ]
    },
    {
     "data": {
      "image/png": "[encoded data removed]",
      "text/plain": [
       "<matplotlib.figure.Figure at 0x3b3d6a0>"
      ]
     },
     "metadata": {},
     "output_type": "display_data"
    }
   ],
   "source": [
    "incorrect_indexes = ~(y_pred == y_test)\n",
    "incorrect_X = X_test.ix[incorrect_indexes,:]\n",
    "incorrect_X_reshape = map(lambda x: x.reshape(28,28), incorrect_X.values)\n",
    "incorrect_y_pred = y_pred[incorrect_indexes.values]\n",
    "incorrect_y_test = y_test.values[incorrect_indexes.values]\n",
    "\n",
    "incorrect_matrix = pd.DataFrame({'Actual': incorrect_y_test, 'Predicted' : incorrect_y_pred}, columns=['Actual','Predicted'])\n",
    "\n",
    "for incorrect_index in xrange(incorrect_X.shape[0]):\n",
    "    #print 'Actual: ', incorrect_y_test[incorrect_index]\n",
    "    #print 'Predicted: ', incorrect_y_pred[incorrect_index]\n",
    "    plt.pcolor(incorrect_X_reshape[incorrect_index].T)"
   ]
  },
  {
   "cell_type": "markdown",
   "metadata": {},
   "source": [
    "#### Heatmap of incorrect classified numbers"
   ]
  },
  {
   "cell_type": "code",
   "execution_count": 8,
   "metadata": {
    "collapsed": false,
    "scrolled": false
   },
   "outputs": [
    {
     "data": {
      "text/plain": [
       "<matplotlib.axes._subplots.AxesSubplot at 0x1e3eb400>"
      ]
     },
     "execution_count": 8,
     "metadata": {},
     "output_type": "execute_result"
    },
    {
     "data": {
      "image/png": "[encoded data removed]",
      "text/plain": [
       "<matplotlib.figure.Figure at 0x1e3eb588>"
      ]
     },
     "metadata": {},
     "output_type": "display_data"
    }
   ],
   "source": [
    "incorrect_matrix.head(2)\n",
    "\n",
    "crosstab_incorrect_matrix = pd.crosstab(incorrect_y_test, incorrect_y_pred, rownames = ['Actual'], colnames=['Predicted'])\n",
    "sns.heatmap(crosstab_incorrect_matrix)"
   ]
  },
  {
   "cell_type": "markdown",
   "metadata": {
    "collapsed": true
   },
   "source": [
    "The most comment error is actual 8s being classified as 3s. Also common are 3s that are classified as 6s. \n",
    "\n",
    "Common errors:\n",
    "\n",
    "Actual --> Predict\n",
    "\n",
    "8      --> 3\n",
    "\n",
    "3      --> 5\n",
    "\n",
    "3      --> 6\n"
   ]
  },
  {
   "cell_type": "markdown",
   "metadata": {},
   "source": [
    "## Grid Search with Linear Kernel SVM\n",
    "\n",
    "Let's see if doing a grid search with the linear SVM can improve things:"
   ]
  },
  {
   "cell_type": "code",
   "execution_count": 13,
   "metadata": {
    "collapsed": true
   },
   "outputs": [],
   "source": [
    "import time\n",
    "from sklearn.grid_search import GridSearchCV"
   ]
  },
  {
   "cell_type": "code",
   "execution_count": 13,
   "metadata": {
    "collapsed": false
   },
   "outputs": [
    {
     "name": "stdout",
     "output_type": "stream",
     "text": [
      "Elapsed Time:  22.9830000401\n"
     ]
    }
   ],
   "source": [
    "\n",
    "lin_svc_clf = skl_svm.SVC()\n",
    "\n",
    "#, 'degree': np.arange(1,4), \n",
    "lin_svc_gs_params = [\n",
    "    {'kernel': ['linear'], 'C': [1]}\n",
    "]\n",
    "start_time = time.time()\n",
    "gs_lin_svc_clf = GridSearchCV(lin_svc_clf, param_grid = lin_svc_gs_params, cv=6)\n",
    "gs_lin_svc_clf.fit(X_subset, y_subset);\n",
    "end_time = time.time()\n",
    "\n",
    "print 'Elapsed Time: ', end_time - start_time, ' seconds'"
   ]
  },
  {
   "cell_type": "code",
   "execution_count": 14,
   "metadata": {
    "collapsed": false
   },
   "outputs": [
    {
     "name": "stdout",
     "output_type": "stream",
     "text": [
      "0.913+/-0.011 {'kernel': 'linear', 'C': 1}\n"
     ]
    }
   ],
   "source": [
    "for params, mean_score, scores in gs_lin_svc_clf.grid_scores_:\n",
    "    print('%0.3f+/-%0.3f %r' % (mean_score, np.std(scores), params))"
   ]
  },
  {
   "cell_type": "markdown",
   "metadata": {},
   "source": [
    "No major difference between C values. Let's look at different gammas:"
   ]
  },
  {
   "cell_type": "code",
   "execution_count": 53,
   "metadata": {
    "collapsed": true
   },
   "outputs": [],
   "source": [
    "lin_svc_gs_params = [\n",
    "    {'kernel': ['linear'], 'C': [1], 'gamma': np.logspace(-2,2, num=5)}\n",
    "]\n",
    "\n",
    "gs_lin_svc_clf = GridSearchCV(lin_svc_clf, param_grid = lin_svc_gs_params, cv=10, n_jobs=4)\n",
    "gs_lin_svc_clf.fit(X_subset, y_subset);"
   ]
  },
  {
   "cell_type": "code",
   "execution_count": 54,
   "metadata": {
    "collapsed": false
   },
   "outputs": [
    {
     "name": "stdout",
     "output_type": "stream",
     "text": [
      "0.918+/-0.012 {'kernel': 'linear', 'C': 1, 'gamma': 0.01}\n",
      "0.918+/-0.012 {'kernel': 'linear', 'C': 1, 'gamma': 0.10000000000000001}\n",
      "0.918+/-0.012 {'kernel': 'linear', 'C': 1, 'gamma': 1.0}\n",
      "0.918+/-0.012 {'kernel': 'linear', 'C': 1, 'gamma': 10.0}\n",
      "0.918+/-0.012 {'kernel': 'linear', 'C': 1, 'gamma': 100.0}\n"
     ]
    }
   ],
   "source": [
    "for params, mean_score, scores in gs_lin_svc_clf.grid_scores_:\n",
    "    print('%0.3f+/-%0.3f %r' % (mean_score, np.std(scores), params))"
   ]
  },
  {
   "cell_type": "markdown",
   "metadata": {},
   "source": [
    "No major difference here. \n",
    "\n",
    "### Duh: Linear kernel don't use degrees (that's for poly)\n",
    "\n",
    "Let's look at different kernels:"
   ]
  },
  {
   "cell_type": "code",
   "execution_count": 14,
   "metadata": {
    "collapsed": false
   },
   "outputs": [
    {
     "name": "stdout",
     "output_type": "stream",
     "text": [
      "Elapsed Time:  6611.52399993  seconds\n"
     ]
    }
   ],
   "source": [
    "svc_gs_params = [\n",
    "    {'kernel': ['poly'], 'degree': np.arange(1,3), 'C': np.logspace(-2, 10, num=7)}, \n",
    "    {'kernel': ['rbf'], 'gamma': np.logspace(-9, 3, num=7), 'C': np.logspace(-2, 10, num=7)},\n",
    "    {'kernel': ['sigmoid'], 'C': np.logspace(-2, 10, num=7)}\n",
    "]\n",
    "start_time = time.time()\n",
    "gs_svc_clf = GridSearchCV(lin_svc_clf, param_grid = svc_gs_params, cv=5)\n",
    "gs_svc_clf.fit(X_subset, y_subset);\n",
    "end_time = time.time()\n",
    "\n",
    "print 'Elapsed Time: ', end_time - start_time, ' seconds'"
   ]
  },
  {
   "cell_type": "code",
   "execution_count": 15,
   "metadata": {
    "collapsed": false
   },
   "outputs": [
    {
     "name": "stdout",
     "output_type": "stream",
     "text": [
      "0.910+/-0.007 {'kernel': 'poly', 'C': 0.01, 'degree': 1}\n",
      "0.951+/-0.007 {'kernel': 'poly', 'C': 0.01, 'degree': 2}\n",
      "0.910+/-0.006 {'kernel': 'poly', 'C': 1.0, 'degree': 1}\n",
      "0.951+/-0.007 {'kernel': 'poly', 'C': 1.0, 'degree': 2}\n",
      "0.910+/-0.006 {'kernel': 'poly', 'C': 100.0, 'degree': 1}\n",
      "0.951+/-0.007 {'kernel': 'poly', 'C': 100.0, 'degree': 2}\n",
      "0.910+/-0.006 {'kernel': 'poly', 'C': 10000.0, 'degree': 1}\n",
      "0.951+/-0.007 {'kernel': 'poly', 'C': 10000.0, 'degree': 2}\n",
      "0.910+/-0.006 {'kernel': 'poly', 'C': 1000000.0, 'degree': 1}\n",
      "0.951+/-0.007 {'kernel': 'poly', 'C': 1000000.0, 'degree': 2}\n",
      "0.910+/-0.006 {'kernel': 'poly', 'C': 100000000.0, 'degree': 1}\n",
      "0.951+/-0.007 {'kernel': 'poly', 'C': 100000000.0, 'degree': 2}\n",
      "0.910+/-0.006 {'kernel': 'poly', 'C': 10000000000.0, 'degree': 1}\n",
      "0.951+/-0.007 {'kernel': 'poly', 'C': 10000000000.0, 'degree': 2}\n",
      "0.112+/-0.000 {'kernel': 'rbf', 'C': 0.01, 'gamma': 1.0000000000000001e-09}\n",
      "0.294+/-0.008 {'kernel': 'rbf', 'C': 0.01, 'gamma': 9.9999999999999995e-08}\n",
      "0.112+/-0.000 {'kernel': 'rbf', 'C': 0.01, 'gamma': 1.0000000000000001e-05}\n",
      "0.112+/-0.000 {'kernel': 'rbf', 'C': 0.01, 'gamma': 0.001}\n",
      "0.112+/-0.000 {'kernel': 'rbf', 'C': 0.01, 'gamma': 0.10000000000000001}\n",
      "0.112+/-0.000 {'kernel': 'rbf', 'C': 0.01, 'gamma': 10.0}\n",
      "0.112+/-0.000 {'kernel': 'rbf', 'C': 0.01, 'gamma': 1000.0}\n",
      "0.614+/-0.013 {'kernel': 'rbf', 'C': 1.0, 'gamma': 1.0000000000000001e-09}\n",
      "0.933+/-0.005 {'kernel': 'rbf', 'C': 1.0, 'gamma': 9.9999999999999995e-08}\n",
      "0.175+/-0.003 {'kernel': 'rbf', 'C': 1.0, 'gamma': 1.0000000000000001e-05}\n",
      "0.112+/-0.000 {'kernel': 'rbf', 'C': 1.0, 'gamma': 0.001}\n",
      "0.112+/-0.000 {'kernel': 'rbf', 'C': 1.0, 'gamma': 0.10000000000000001}\n",
      "0.112+/-0.000 {'kernel': 'rbf', 'C': 1.0, 'gamma': 10.0}\n",
      "0.112+/-0.000 {'kernel': 'rbf', 'C': 1.0, 'gamma': 1000.0}\n",
      "0.920+/-0.001 {'kernel': 'rbf', 'C': 100.0, 'gamma': 1.0000000000000001e-09}\n",
      "0.951+/-0.007 {'kernel': 'rbf', 'C': 100.0, 'gamma': 9.9999999999999995e-08}\n",
      "0.179+/-0.003 {'kernel': 'rbf', 'C': 100.0, 'gamma': 1.0000000000000001e-05}\n",
      "0.112+/-0.000 {'kernel': 'rbf', 'C': 100.0, 'gamma': 0.001}\n",
      "0.112+/-0.000 {'kernel': 'rbf', 'C': 100.0, 'gamma': 0.10000000000000001}\n",
      "0.112+/-0.000 {'kernel': 'rbf', 'C': 100.0, 'gamma': 10.0}\n",
      "0.112+/-0.000 {'kernel': 'rbf', 'C': 100.0, 'gamma': 1000.0}\n",
      "0.912+/-0.006 {'kernel': 'rbf', 'C': 10000.0, 'gamma': 1.0000000000000001e-09}\n",
      "0.951+/-0.007 {'kernel': 'rbf', 'C': 10000.0, 'gamma': 9.9999999999999995e-08}\n",
      "0.179+/-0.003 {'kernel': 'rbf', 'C': 10000.0, 'gamma': 1.0000000000000001e-05}\n",
      "0.112+/-0.000 {'kernel': 'rbf', 'C': 10000.0, 'gamma': 0.001}\n",
      "0.112+/-0.000 {'kernel': 'rbf', 'C': 10000.0, 'gamma': 0.10000000000000001}\n",
      "0.112+/-0.000 {'kernel': 'rbf', 'C': 10000.0, 'gamma': 10.0}\n",
      "0.112+/-0.000 {'kernel': 'rbf', 'C': 10000.0, 'gamma': 1000.0}\n",
      "0.912+/-0.006 {'kernel': 'rbf', 'C': 1000000.0, 'gamma': 1.0000000000000001e-09}\n",
      "0.951+/-0.007 {'kernel': 'rbf', 'C': 1000000.0, 'gamma': 9.9999999999999995e-08}\n",
      "0.179+/-0.003 {'kernel': 'rbf', 'C': 1000000.0, 'gamma': 1.0000000000000001e-05}\n",
      "0.112+/-0.000 {'kernel': 'rbf', 'C': 1000000.0, 'gamma': 0.001}\n",
      "0.112+/-0.000 {'kernel': 'rbf', 'C': 1000000.0, 'gamma': 0.10000000000000001}\n",
      "0.112+/-0.000 {'kernel': 'rbf', 'C': 1000000.0, 'gamma': 10.0}\n",
      "0.112+/-0.000 {'kernel': 'rbf', 'C': 1000000.0, 'gamma': 1000.0}\n",
      "0.912+/-0.006 {'kernel': 'rbf', 'C': 100000000.0, 'gamma': 1.0000000000000001e-09}\n",
      "0.951+/-0.007 {'kernel': 'rbf', 'C': 100000000.0, 'gamma': 9.9999999999999995e-08}\n",
      "0.179+/-0.003 {'kernel': 'rbf', 'C': 100000000.0, 'gamma': 1.0000000000000001e-05}\n",
      "0.112+/-0.000 {'kernel': 'rbf', 'C': 100000000.0, 'gamma': 0.001}\n",
      "0.112+/-0.000 {'kernel': 'rbf', 'C': 100000000.0, 'gamma': 0.10000000000000001}\n",
      "0.112+/-0.000 {'kernel': 'rbf', 'C': 100000000.0, 'gamma': 10.0}\n",
      "0.112+/-0.000 {'kernel': 'rbf', 'C': 100000000.0, 'gamma': 1000.0}\n",
      "0.912+/-0.006 {'kernel': 'rbf', 'C': 10000000000.0, 'gamma': 1.0000000000000001e-09}\n",
      "0.951+/-0.007 {'kernel': 'rbf', 'C': 10000000000.0, 'gamma': 9.9999999999999995e-08}\n",
      "0.179+/-0.003 {'kernel': 'rbf', 'C': 10000000000.0, 'gamma': 1.0000000000000001e-05}\n",
      "0.112+/-0.000 {'kernel': 'rbf', 'C': 10000000000.0, 'gamma': 0.001}\n",
      "0.112+/-0.000 {'kernel': 'rbf', 'C': 10000000000.0, 'gamma': 0.10000000000000001}\n",
      "0.112+/-0.000 {'kernel': 'rbf', 'C': 10000000000.0, 'gamma': 10.0}\n",
      "0.112+/-0.000 {'kernel': 'rbf', 'C': 10000000000.0, 'gamma': 1000.0}\n",
      "0.112+/-0.000 {'kernel': 'sigmoid', 'C': 0.01}\n",
      "0.112+/-0.000 {'kernel': 'sigmoid', 'C': 1.0}\n",
      "0.112+/-0.000 {'kernel': 'sigmoid', 'C': 100.0}\n",
      "0.112+/-0.000 {'kernel': 'sigmoid', 'C': 10000.0}\n",
      "0.112+/-0.000 {'kernel': 'sigmoid', 'C': 1000000.0}\n",
      "0.112+/-0.000 {'kernel': 'sigmoid', 'C': 100000000.0}\n",
      "0.112+/-0.000 {'kernel': 'sigmoid', 'C': 10000000000.0}\n"
     ]
    }
   ],
   "source": [
    "for params, mean_score, scores in gs_svc_clf.grid_scores_:\n",
    "    print('%0.3f+/-%0.3f %r' % (mean_score, np.std(scores), params))"
   ]
  },
  {
   "cell_type": "markdown",
   "metadata": {
    "collapsed": true
   },
   "source": [
    "## Investigating polynomial SVC\n",
    "\n",
    "The polynomial support vector classifiers did fairly well on average. Let's look deeper into these:"
   ]
  },
  {
   "cell_type": "code",
   "execution_count": null,
   "metadata": {
    "collapsed": true
   },
   "outputs": [],
   "source": [
    "svc_poly_gs_params = [\n",
    "    {'kernel': ['poly'], 'degree': np.arange(1,6), 'C': np.logspace(-2, 10, num=13)}, \n",
    "]\n",
    "start_time = time.time()\n",
    "gs_svc_poly_clf = GridSearchCV(lin_svc_clf, param_grid = svc_gs_params, cv=8)\n",
    "gs_svc_poly_clf.fit(X_subset, y_subset);\n",
    "end_time = time.time()\n",
    "\n",
    "print 'Elapsed Time: ', end_time - start_time, ' seconds'\n",
    "\n",
    "for params, mean_score, scores in gs_svc_poly_clf.grid_scores_:\n",
    "    print('%0.3f+/-%0.3f %r' % (mean_score, np.std(scores), params))"
   ]
  },
  {
   "cell_type": "markdown",
   "metadata": {},
   "source": []
  }
 ],
 "metadata": {
  "kernelspec": {
   "display_name": "Python 2",
   "language": "python",
   "name": "python2"
  },
  "language_info": {
   "codemirror_mode": {
    "name": "ipython",
    "version": 2
   },
   "file_extension": ".py",
   "mimetype": "text/x-python",
   "name": "python",
   "nbconvert_exporter": "python",
   "pygments_lexer": "ipython2",
   "version": "2.7.10"
  }
 },
 "nbformat": 4,
 "nbformat_minor": 0
}
