{
 "cells": [
  {
   "cell_type": "markdown",
   "metadata": {},
   "source": [
    "# Investigating Errors"
   ]
  },
  {
   "cell_type": "code",
   "execution_count": 33,
   "metadata": {
    "collapsed": true
   },
   "outputs": [],
   "source": [
    "import os\n",
    "os.chdir('C:\\Users\\Lundi\\Documents\\Programming\\Python\\Kaggle\\Digits')\n",
    "import time\n",
    "\n",
    "import numpy as np\n",
    "import pandas as pd\n",
    "\n",
    "%matplotlib inline\n",
    "import matplotlib.pyplot as plt\n",
    "import seaborn as sns\n",
    "\n",
    "import sklearn.svm as skl_svm\n",
    "import sklearn.cross_validation as skl_cv\n",
    "from sklearn.grid_search import GridSearchCV"
   ]
  },
  {
   "cell_type": "markdown",
   "metadata": {},
   "source": [
    "## Loading data"
   ]
  },
  {
   "cell_type": "code",
   "execution_count": null,
   "metadata": {
    "collapsed": true
   },
   "outputs": [],
   "source": [
    "digit_data = pd.read_csv('Data/train.csv')\n",
    "\n",
    "X = digit_data.ix[:,1:digit_data.shape[1]]\n",
    "y = digit_data['label']\n",
    "\n",
    "X_subset = X.ix[0:10000,:]\n",
    "y_subset = y.ix[0:10000]"
   ]
  },
  {
   "cell_type": "markdown",
   "metadata": {},
   "source": [
    "## Fitting SVC to subset of data with CV predict"
   ]
  },
  {
   "cell_type": "code",
   "execution_count": 19,
   "metadata": {
    "collapsed": true
   },
   "outputs": [],
   "source": [
    "svc_poly_clf = skl_svm.SVC(\n",
    "    C=2.8e-5, \n",
    "    degree=2, \n",
    "    gamma='auto', \n",
    "    kernel='poly', \n",
    "    tol=0.001\n",
    ")\n",
    "\n",
    "y_pred_cv = skl_cv.cross_val_predict(svc_poly_clf, X_subset, y_subset, cv = 10)\n",
    "y_pred_cv = pd.Series(y_pred_cv, index = y_subset.index)"
   ]
  },
  {
   "cell_type": "markdown",
   "metadata": {},
   "source": [
    "## Getting misclassified data"
   ]
  },
  {
   "cell_type": "code",
   "execution_count": 26,
   "metadata": {
    "collapsed": false
   },
   "outputs": [
    {
     "data": {
      "text/html": [
       "<div>\n",
       "<table border=\"1\" class=\"dataframe\">\n",
       "  <thead>\n",
       "    <tr style=\"text-align: right;\">\n",
       "      <th></th>\n",
       "      <th>Actual</th>\n",
       "      <th>Predicted</th>\n",
       "    </tr>\n",
       "  </thead>\n",
       "  <tbody>\n",
       "    <tr>\n",
       "      <th>0</th>\n",
       "      <td>5</td>\n",
       "      <td>6</td>\n",
       "    </tr>\n",
       "    <tr>\n",
       "      <th>1</th>\n",
       "      <td>9</td>\n",
       "      <td>3</td>\n",
       "    </tr>\n",
       "  </tbody>\n",
       "</table>\n",
       "</div>"
      ],
      "text/plain": [
       "   Actual  Predicted\n",
       "0       5          6\n",
       "1       9          3"
      ]
     },
     "execution_count": 26,
     "metadata": {},
     "output_type": "execute_result"
    }
   ],
   "source": [
    "incorrect_indexes = y_pred_cv != y_subset\n",
    "\n",
    "y_pred_cv_incorrect = y_pred_cv.ix[incorrect_indexes]\n",
    "y_subset_incorrect = y_subset.ix[incorrect_indexes]\n",
    "\n",
    "y_incorrect_df = pd.DataFrame({\n",
    "        'Actual' : y_subset_incorrect.values,\n",
    "        'Predicted' : y_pred_cv_incorrect.values\n",
    "                              })\n",
    "y_incorrect_df.head(2)"
   ]
  },
  {
   "cell_type": "markdown",
   "metadata": {},
   "source": [
    "## Visualizing misclassified data with a heatmap\n",
    "\n",
    "I first cross-tabulate to get the count of each misclassification and then plot this in a heatmap:"
   ]
  },
  {
   "cell_type": "code",
   "execution_count": 36,
   "metadata": {
    "collapsed": false
   },
   "outputs": [
    {
     "data": {
      "image/png": "[encoded data removed]",
      "text/plain": [
       "<matplotlib.figure.Figure at 0x27cbdbe0>"
      ]
     },
     "metadata": {},
     "output_type": "display_data"
    }
   ],
   "source": [
    "plt.rcParams['figure.figsize'] = 15,9\n",
    "\n",
    "misclassified_crosstab = pd.crosstab(y_incorrect_df['Actual'], y_incorrect_df['Predicted'])\n",
    "sns.heatmap(misclassified_crosstab, square=True);"
   ]
  },
  {
   "cell_type": "markdown",
   "metadata": {},
   "source": [
    "#### Looking at the absolute values of misclassifications from the cross-tabulation table"
   ]
  },
  {
   "cell_type": "code",
   "execution_count": 44,
   "metadata": {
    "collapsed": false
   },
   "outputs": [
    {
     "data": {
      "text/plain": [
       "Predicted  Actual\n",
       "4          9         18\n",
       "9          4         16\n",
       "3          8         15\n",
       "9          7         13\n",
       "3          5         13\n",
       "5          8         13\n",
       "2          7         12\n",
       "7          9         11\n",
       "5          3         11\n",
       "7          2         11\n",
       "dtype: int64"
      ]
     },
     "execution_count": 44,
     "metadata": {},
     "output_type": "execute_result"
    }
   ],
   "source": [
    "sorted_misclassified_crosstab_unstack = misclassified_crosstab.unstack().sort_values(ascending=False)\n",
    "sorted_misclassified_crosstab_unstack.head(10)"
   ]
  },
  {
   "cell_type": "markdown",
   "metadata": {},
   "source": [
    "The top two misclassifications were 9 <--> 4. \n",
    "The third most common was 8 --> 3\n",
    "The fourth most common was 7 --> 9\n",
    "\n",
    "#### Looking at which numbers were least commonly misclassified"
   ]
  },
  {
   "cell_type": "code",
   "execution_count": 52,
   "metadata": {
    "collapsed": false
   },
   "outputs": [
    {
     "data": {
      "text/plain": [
       "Actual\n",
       "0    10\n",
       "1    19\n",
       "2    43\n",
       "3    41\n",
       "4    30\n",
       "5    42\n",
       "6    25\n",
       "7    48\n",
       "8    62\n",
       "9    56\n",
       "Name: 0, dtype: int64"
      ]
     },
     "execution_count": 52,
     "metadata": {},
     "output_type": "execute_result"
    }
   ],
   "source": [
    "total_actual_misclassified = sorted_misclassified_crosstab_unstack.reset_index().groupby(['Actual'])[0].sum()\n",
    "total_actual_misclassified"
   ]
  },
  {
   "cell_type": "code",
   "execution_count": 57,
   "metadata": {
    "collapsed": false
   },
   "outputs": [
    {
     "data": {
      "text/plain": [
       "<matplotlib.text.Text at 0x46d29550>"
      ]
     },
     "execution_count": 57,
     "metadata": {},
     "output_type": "execute_result"
    },
    {
     "data": {
      "image/png": "[encoded data removed]",
      "text/plain": [
       "<matplotlib.figure.Figure at 0x2aced780>"
      ]
     },
     "metadata": {},
     "output_type": "display_data"
    }
   ],
   "source": [
    "plt.rcParams['figure.figsize'] = 8,6\n",
    "plt.bar(total_actual_misclassified.index, total_actual_misclassified)\n",
    "ax = plt.gca()\n",
    "ax.set_xlabel('Actual #')\n",
    "ax.set_ylabel('# of misclassifications')"
   ]
  },
  {
   "cell_type": "markdown",
   "metadata": {},
   "source": [
    "So 0 and 1 were classified very rarely. 4 and 6 were classified correctly fairly well. \n",
    "\n",
    "8 and 9 were misclassified quite a bit."
   ]
  },
  {
   "cell_type": "markdown",
   "metadata": {},
   "source": [
    "## Focusing on number 8\n",
    "\n",
    "Let's look at the actual number 8. "
   ]
  },
  {
   "cell_type": "code",
   "execution_count": 60,
   "metadata": {
    "collapsed": false
   },
   "outputs": [
    {
     "data": {
      "text/plain": [
       "Predicted\n",
       "3    15\n",
       "5    13\n",
       "2     9\n",
       "9     8\n",
       "1     7\n",
       "7     3\n",
       "4     3\n",
       "0     2\n",
       "6     2\n",
       "8     0\n",
       "dtype: int64"
      ]
     },
     "execution_count": 60,
     "metadata": {},
     "output_type": "execute_result"
    }
   ],
   "source": [
    "sorted_misclassified_crosstab_unstack.ix[:,8]"
   ]
  },
  {
   "cell_type": "markdown",
   "metadata": {},
   "source": [
    "So if the SVC misclassifies an 8, the two most probable numbers are 3 and 5. \n",
    "\n",
    "What I need my algorithm to do is take the samples that are predicted as 8 and look at them for their chance to be numbers like 3 or 5. If the probability they should be a 3 or 5 is high enough, it should choose one of those. \n",
    "\n",
    "Let's see if the SVC can give us a prediction probability for each possible number:"
   ]
  },
  {
   "cell_type": "code",
   "execution_count": null,
   "metadata": {
    "collapsed": true
   },
   "outputs": [],
   "source": [
    "skl_cv.cross_val_predict()"
   ]
  }
 ],
 "metadata": {
  "kernelspec": {
   "display_name": "Python 2",
   "language": "python",
   "name": "python2"
  },
  "language_info": {
   "codemirror_mode": {
    "name": "ipython",
    "version": 2
   },
   "file_extension": ".py",
   "mimetype": "text/x-python",
   "name": "python",
   "nbconvert_exporter": "python",
   "pygments_lexer": "ipython2",
   "version": "2.7.10"
  }
 },
 "nbformat": 4,
 "nbformat_minor": 0
}
